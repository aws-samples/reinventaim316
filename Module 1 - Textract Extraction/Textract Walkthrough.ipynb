{
 "cells": [
  {
   "cell_type": "markdown",
   "metadata": {},
   "source": [
    "<h1> <b> Amazon Textract Primitivies and API's</b> </h1>\n",
    "\n",
    "Amazon Textract is a document analysis service that detects and extracts printed text, and handwriting, structured data, such as fields of interest and their values, and tables from images and scans of documents. Amazon Textract's machine learning models have been trained on millions of documents so that virtually any document type you upload is automatically recognized and processed for text extraction. When information is extracted from documents, the service returns a confidence score for each element it identifies so that you can make informed decisions about how you want to use the results. Textract has four API's that we will be focusing on for todays workshop each of them play different role when it comes to processing documents."
   ]
  },
  {
   "cell_type": "markdown",
   "metadata": {},
   "source": [
    "<h3> <strong>For more details about each of these API's along with when to use them refer to the Workshop Guide under Module 1 </strong> </h3>"
   ]
  },
  {
   "cell_type": "code",
   "execution_count": null,
   "metadata": {},
   "outputs": [],
   "source": [
    "import boto3\n",
    "!python -m pip install amazon-textract-prettyprinter\n",
    "!python -m pip install amazon-textract-response-parser\n",
    "import pprint\n",
    "import os\n",
    "import textractprettyprinter\n",
    "from trp import Document\n",
    "from textractprettyprinter.t_pretty_print import Textract_Pretty_Print, get_lines_string\n",
    "from textractprettyprinter.t_pretty_print import Pretty_Print_Table_Format, Textract_Pretty_Print, get_string"
   ]
  },
  {
   "cell_type": "markdown",
   "metadata": {},
   "source": [
    "<h1> Detect Text with Amazon Textract - Local Document </h1>\n",
    "Amazon Textract performs OCR using the Detect Document Text API. This API will provide the user with an extraction of all the raw text on the input document locally"
   ]
  },
  {
   "cell_type": "code",
   "execution_count": null,
   "metadata": {},
   "outputs": [],
   "source": [
    "#intialize the connection to Amazon Textract\n",
    "textract = boto3.client('textract')\n",
    "\n",
    "#select the document \n",
    "document = 'w2example.jpg'\n"
   ]
  },
  {
   "cell_type": "code",
   "execution_count": null,
   "metadata": {},
   "outputs": [],
   "source": [
    "#Send the Document to the Detect Text API \n",
    "with open(document, 'rb') as document:\n",
    "    imageBytes = bytearray(document.read())\n",
    "\n",
    "textract_response = textract.detect_document_text(Document={'Bytes': imageBytes})"
   ]
  },
  {
   "cell_type": "code",
   "execution_count": null,
   "metadata": {},
   "outputs": [],
   "source": [
    "#Print the parsed results\n",
    "doc = Document(textract_response)\n",
    "for page in doc.pages:\n",
    "    # Print lines and words\n",
    "    for line in page.lines:\n",
    "        print(\"Line: {}--{}\".format(line.text, line.confidence))\n",
    "        for word in line.words:\n",
    "            print(\"Word: {}--{}\".format(word.text, word.confidence))"
   ]
  },
  {
   "cell_type": "code",
   "execution_count": null,
   "metadata": {},
   "outputs": [],
   "source": [
    "#Optional Step to see fully raw Textract Output. Please refer to Workshop guide for more details! \n",
    "pprint.pprint(textract_response)"
   ]
  },
  {
   "cell_type": "code",
   "execution_count": null,
   "metadata": {},
   "outputs": [],
   "source": [
    "#Using a post-processing library to clean up output\n",
    "pretty_printed = get_lines_string(textract_json=textract_response)\n",
    "print(pretty_printed)"
   ]
  },
  {
   "cell_type": "markdown",
   "metadata": {},
   "source": [
    "<h1> Detect Text with Amazon Textract - S3 Document </h1>\n",
    "Amazon Textract performs OCR using the Detect Document Text API. This API will provide the user with an extraction of all the raw text on the input document in S3"
   ]
  },
  {
   "cell_type": "code",
   "execution_count": null,
   "metadata": {},
   "outputs": [],
   "source": [
    "s3BucketName = 'reinvent316-84342323'\n",
    "documentName = 'w2example.jpg'\n",
    "\n",
    "textracts3_response = textract.detect_document_text(\n",
    "    Document={\n",
    "        'S3Object': {\n",
    "            'Bucket': s3BucketName,\n",
    "            'Name': documentName\n",
    "        }\n",
    "    })\n",
    "\n",
    "pretty_printeds3 = get_lines_string(textract_json=textracts3_response)\n",
    "print(pretty_printeds3)"
   ]
  },
  {
   "cell_type": "markdown",
   "metadata": {},
   "source": [
    "<h1> Analyze Document with Amazon Textract - Local Document (Forms) </h1>\n",
    "The Analyze Document API builds ontop of the detect_text api, but now detecting structure within a document, by finding Tables or Form (Key:Value) values within the document."
   ]
  },
  {
   "cell_type": "code",
   "execution_count": null,
   "metadata": {},
   "outputs": [],
   "source": [
    "\n",
    "document = 'invoice.jpg'\n",
    "\n",
    "#Call the Analyze Doc API\n",
    "with open(document, \"rb\") as document:\n",
    "    response = textract.analyze_document(\n",
    "        Document={\n",
    "            'Bytes': document.read(),\n",
    "        },\n",
    "        FeatureTypes=[\"FORMS\"])\n",
    "    "
   ]
  },
  {
   "cell_type": "code",
   "execution_count": null,
   "metadata": {},
   "outputs": [],
   "source": [
    "#post-process the results\n",
    "print(get_string(textract_json=response,\n",
    "               output_type=[Textract_Pretty_Print.FORMS]))"
   ]
  },
  {
   "cell_type": "markdown",
   "metadata": {},
   "source": [
    "<h1> Analyze Document with Amazon Textract - Local Document (Tables) </h1>\n",
    "The Analyze Document API builds ontop of the detect_text api, but now detecting structure within a document, by finding Tables or Form (Key:Value) values within the document."
   ]
  },
  {
   "cell_type": "code",
   "execution_count": null,
   "metadata": {},
   "outputs": [],
   "source": [
    "document = 'invoice.jpg'\n",
    "\n",
    "#Call the Analyze Doc API\n",
    "with open(document, \"rb\") as document:\n",
    "    response = textract.analyze_document(\n",
    "        Document={\n",
    "            'Bytes': document.read(),\n",
    "        },\n",
    "        FeatureTypes=[\"TABLES\"])\n"
   ]
  },
  {
   "cell_type": "code",
   "execution_count": null,
   "metadata": {},
   "outputs": [],
   "source": [
    "#post-process the results\n",
    "print(get_string(textract_json=response,\n",
    "               output_type=[Textract_Pretty_Print.TABLES]))"
   ]
  },
  {
   "cell_type": "markdown",
   "metadata": {},
   "source": [
    "<h1> Analyze Expense with Amazon Textract</h1>\n",
    "The Analyze Expense API is a purpose build API designed to extract line item details in addition to key-value pairs from invoices and receipts. "
   ]
  },
  {
   "cell_type": "code",
   "execution_count": null,
   "metadata": {},
   "outputs": [],
   "source": [
    "document = \"invoice.jpg\"\n",
    "    \n",
    "with open(document, 'rb') as document:\n",
    "    imageBytes = bytearray(document.read())\n",
    "\n",
    "response = textract.analyze_expense(Document={'Bytes': imageBytes})\n",
    "pprint.pprint(response)"
   ]
  },
  {
   "cell_type": "code",
   "execution_count": null,
   "metadata": {},
   "outputs": [],
   "source": []
  }
 ],
 "metadata": {
  "instance_type": "ml.t3.medium",
  "kernelspec": {
   "display_name": "Python 3 (Data Science)",
   "language": "python",
   "name": "python3__SAGEMAKER_INTERNAL__arn:aws:sagemaker:us-east-1:081325390199:image/datascience-1.0"
  },
  "language_info": {
   "codemirror_mode": {
    "name": "ipython",
    "version": 3
   },
   "file_extension": ".py",
   "mimetype": "text/x-python",
   "name": "python",
   "nbconvert_exporter": "python",
   "pygments_lexer": "ipython3",
   "version": "3.7.10"
  }
 },
 "nbformat": 4,
 "nbformat_minor": 4
}
