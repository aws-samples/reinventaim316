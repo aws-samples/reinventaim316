{
 "cells": [
  {
   "cell_type": "markdown",
   "metadata": {},
   "source": [
    "# Challenge Exercise Solution\n",
    "\n",
    "\n",
    "### This section contains the solution for the challenge, do not review this file without attempting the challenge"
   ]
  },
  {
   "cell_type": "markdown",
   "metadata": {},
   "source": [
    "\n",
    "\n",
    "## Section 1: Classify the Documents"
   ]
  },
  {
   "cell_type": "markdown",
   "metadata": {},
   "source": [
    "### Solution:"
   ]
  },
  {
   "cell_type": "code",
   "execution_count": null,
   "metadata": {},
   "outputs": [],
   "source": [
    "import boto3\n",
    "import requests\n",
    "from textractprettyprinter.t_pretty_print import Textract_Pretty_Print, get_lines_string\n",
    "import requests\n",
    "import json\n",
    "import os"
   ]
  },
  {
   "cell_type": "code",
   "execution_count": null,
   "metadata": {},
   "outputs": [],
   "source": [
    "textract = boto3.client('textract')\n",
    "comprehend = boto3.client('comprehend')"
   ]
  },
  {
   "cell_type": "code",
   "execution_count": null,
   "metadata": {},
   "outputs": [],
   "source": [
    "documents = ['Image1.png', 'Image2.png','Image3.png','Image4.png','Image5.png']"
   ]
  },
  {
   "cell_type": "markdown",
   "metadata": {},
   "source": [
    "<h3> Use this code block if your model isn't completed training </h3>"
   ]
  },
  {
   "cell_type": "code",
   "execution_count": null,
   "metadata": {},
   "outputs": [],
   "source": [
    "#This code will help you classify your documents.\n",
    "def classify(document):\n",
    "    \n",
    "    with open(document, 'rb') as document:\n",
    "        imageBytes = bytearray(document.read())\n",
    "\n",
    "    textract_response = textract.detect_document_text(Document={'Bytes': imageBytes})\n",
    "\n",
    "    #Post-Process the response using Textract Response Parser \n",
    "    classification_text = get_lines_string(textract_json=textract_response)\n",
    "    endpoint_url = \"https://uctwj7mbwu.us-east-1.awsapprunner.com/classifydoc\"\n",
    "\n",
    "    payload = json.dumps({\n",
    "      \"classification_text\": classification_text\n",
    "    })\n",
    "    headers = {\n",
    "      'Content-Type': 'application/json'\n",
    "    }\n",
    "    response = requests.request(\"POST\", endpoint_url, headers=headers, data=payload)\n",
    "    return response.text\n",
    "\n",
    "for doc in documents:\n",
    "    print(doc + \" is \" + classify(doc))\n",
    "\n",
    "#Once you have the right classes it's time to change the names of the finals to their appropriate names"
   ]
  },
  {
   "cell_type": "code",
   "execution_count": null,
   "metadata": {},
   "outputs": [],
   "source": [
    "def classify(document):\n",
    "    \n",
    "    with open(document, 'rb') as document:\n",
    "        imageBytes = bytearray(document.read())\n",
    "\n",
    "    textract_response = textract.detect_document_text(Document={'Bytes': imageBytes})\n",
    "\n",
    "    #Post-Process the response using Textract Response Parser \n",
    "    classification_text = get_lines_string(textract_json=textract_response)\n",
    "    \n",
    "    #send results to self-trained Comprehend Classifier, please insert your Model Endpoint ARN:\n",
    "    endpoint_arn = \"{enter_your_classification_model_arn}\"\n",
    "    comprehend_response = comprehend.classify_document(Text= classification_text,EndpointArn=endpoint_arn)\n",
    "    predicted_class = comprehend_response['Classes'][0]['Name']\n",
    "    #print(predicted_class)\n",
    "\n",
    "    return predicted_class\n",
    "\n",
    "for doc in documents:\n",
    "    print(doc + \" is \" + classify(doc))\n"
   ]
  },
  {
   "cell_type": "code",
   "execution_count": null,
   "metadata": {},
   "outputs": [],
   "source": [
    "#Once you have the right classes it's time to change the names of the finals to their appropriate names\n",
    "os.rename('/root/reinventaim316/Module 5 - Challenge/Image1.png','/root/reinventaim316/Module 5 - Challenge/loan_app.png')\n",
    "os.rename('/root/reinventaim316/Module 5 - Challenge/Image2.png','/root/reinventaim316/Module 5 - Challenge/mortgage_note.png')\n",
    "os.rename('/root/reinventaim316/Module 5 - Challenge/Image3.png','/root/reinventaim316/Module 5 - Challenge/proof_of_identity.png')\n",
    "os.rename('/root/reinventaim316/Module 5 - Challenge/Image4.png','/root/reinventaim316/Module 5 - Challenge/bank_statement.png')\n",
    "os.rename('/root/reinventaim316/Module 5 - Challenge/Image5.png','/root/reinventaim316/Module 5 - Challenge/w2.png')"
   ]
  },
  {
   "cell_type": "markdown",
   "metadata": {},
   "source": [
    "## Section 2: Document Extraction and Entity Extraction"
   ]
  },
  {
   "cell_type": "markdown",
   "metadata": {},
   "source": [
    "### Document 1: Loan Application"
   ]
  },
  {
   "cell_type": "code",
   "execution_count": null,
   "metadata": {},
   "outputs": [],
   "source": [
    "from trp import Document"
   ]
  },
  {
   "cell_type": "code",
   "execution_count": null,
   "metadata": {},
   "outputs": [],
   "source": [
    "document = 'loan_app.png'\n",
    "\n",
    "#Call the Analyze Doc API\n",
    "with open(document, \"rb\") as document:\n",
    "    analyze_result = textract.analyze_document(\n",
    "        Document={\n",
    "            'Bytes': document.read(),\n",
    "        },\n",
    "        FeatureTypes=[\"FORMS\"])\n",
    "\n",
    "#post-process and extract key values from textract response\n",
    "doc = Document(analyze_result)\n",
    "\n",
    "for page in doc.pages:\n",
    "\n",
    "    # Search fields by key\n",
    "    key = \"PRIMARY BORROWER:\"\n",
    "    field = page.form.getFieldByKey(key)\n",
    "    if(field):\n",
    "        customer_name = str(field.value)\n",
    "        print(\"Customer Name: \" + customer_name)\n",
    "\n",
    "    key = \"DATE:\"\n",
    "    fields = page.form.searchFieldsByKey(key)\n",
    "    for field in fields:\n",
    "        application_date = str(field.value)\n",
    "        print(\"Application Date: \" + application_date)\n",
    "\n",
    "    key = \"CURRENT ADDRESS:\"\n",
    "    fields = page.form.searchFieldsByKey(key)\n",
    "    for field in fields:\n",
    "        address = str(field.value)\n",
    "        \n",
    "        #trim extra values from address:\n",
    "        address = address[:len(address) - 32]\n",
    "\n",
    "        print(\"Address: \" + address)\n"
   ]
  },
  {
   "cell_type": "markdown",
   "metadata": {},
   "source": [
    "## Document 2: Mortage Notes"
   ]
  },
  {
   "cell_type": "code",
   "execution_count": null,
   "metadata": {},
   "outputs": [],
   "source": [
    "#We are getting the Entities from our Custom NER Model\n",
    "input_file_path = \"mortgage_note.png\"\n",
    "url = \"https://uctwj7mbwu.us-east-1.awsapprunner.com/customner\"\n",
    "\n",
    "with open(input_file_path, \"rb\") as file:\n",
    "    files = {\n",
    "         \"input_file\": file\n",
    "    }\n",
    "    response = requests.post(url, files=files)\n",
    "    responsecontent = response.json()\n",
    "#set loan and payment variables from response\n",
    "loan_amount = responsecontent['Principal_Amount']\n",
    "monthly_payments = responsecontent['Monthly_Payment']"
   ]
  },
  {
   "cell_type": "markdown",
   "metadata": {},
   "source": [
    "### Document 3: Proof of Identity"
   ]
  },
  {
   "cell_type": "code",
   "execution_count": null,
   "metadata": {},
   "outputs": [],
   "source": [
    "document = 'proof_of_identity.png'\n",
    "\n",
    "#Call the Analyze Doc API\n",
    "with open(document, \"rb\") as document:\n",
    "    analyze_result = textract.analyze_document(\n",
    "        Document={\n",
    "            'Bytes': document.read(),\n",
    "        },\n",
    "        FeatureTypes=[\"FORMS\"])\n",
    "\n",
    "#post-process and extract key values from textract response\n",
    "doc = Document(analyze_result)\n",
    "\n",
    "for page in doc.pages:\n",
    "\n",
    "    # Search fields by key\n",
    "    key = \"LN FN\"\n",
    "    field = page.form.getFieldByKey(key)\n",
    "    if(field):\n",
    "        id_customer_name = str(field.value)\n",
    "        print(\"Proof of ID Customer Name: \" + id_customer_name)\n",
    "        \n",
    "#switch first and last name for comparison\n",
    "names = str(id_customer_name).split(\" \")\n",
    "id_name = names[1] + \" \" + names[0]\n",
    "        \n",
    "#Compare customer name from ID to customer name on loan application\n",
    "if str(customer_name) == id_name:\n",
    "    identity_confirmed_boolean = True\n",
    "else:\n",
    "    identity_confirmed_boolean = False\n",
    "\n",
    "print(identity_confirmed_boolean)\n"
   ]
  },
  {
   "cell_type": "markdown",
   "metadata": {},
   "source": [
    "### Document 4: Bank Statement"
   ]
  },
  {
   "cell_type": "code",
   "execution_count": null,
   "metadata": {},
   "outputs": [],
   "source": [
    "document = 'bank_statement.png'\n",
    "\n",
    "#Call the Analyze Doc API\n",
    "with open(document, \"rb\") as document:\n",
    "    analyze_result = textract.analyze_document(\n",
    "        Document={\n",
    "            'Bytes': document.read(),\n",
    "        },\n",
    "        FeatureTypes=[\"FORMS\"])\n",
    "\n",
    "#post-process and extract key values from textract response\n",
    "doc = Document(analyze_result)\n",
    "\n",
    "for page in doc.pages:\n",
    "\n",
    "    # Search fields by key\n",
    "    key = \"Ending Balance\"\n",
    "    field = page.form.getFieldByKey(key)\n",
    "    if(field):\n",
    "        bankstatement_amount = str(field.value)\n",
    "        print(\"Bank Statement Amount: \" + bankstatement_amount)\n"
   ]
  },
  {
   "cell_type": "markdown",
   "metadata": {},
   "source": [
    "### Document 5: W2 Form"
   ]
  },
  {
   "cell_type": "code",
   "execution_count": null,
   "metadata": {},
   "outputs": [],
   "source": [
    "document = 'w2.png'\n",
    "\n",
    "#Call the Analyze Doc API\n",
    "with open(document, \"rb\") as document:\n",
    "    analyze_result = textract.analyze_document(\n",
    "        Document={\n",
    "            'Bytes': document.read(),\n",
    "        },\n",
    "        FeatureTypes=[\"FORMS\"])\n",
    "\n",
    "#post-process and extract key values from textract response\n",
    "doc = Document(analyze_result)\n",
    "\n",
    "for page in doc.pages:\n",
    "\n",
    "    # Search fields by key\n",
    "    key = \"1 Wages, tips, other compensation\"\n",
    "    field = page.form.getFieldByKey(key)\n",
    "    if(field):\n",
    "        wages_amount = str(field.value)\n",
    "        print(\"Wages Amount: \" + wages_amount)\n",
    "        \n",
    "    key = \"a Employee's social security number\"\n",
    "    field = page.form.getFieldByKey(key)\n",
    "    if(field):\n",
    "        ssn = str(field.value)\n",
    "        print(\"SSN: \" + ssn)\n"
   ]
  },
  {
   "cell_type": "markdown",
   "metadata": {},
   "source": [
    "## Section 3: Verify Results"
   ]
  },
  {
   "cell_type": "code",
   "execution_count": null,
   "metadata": {},
   "outputs": [],
   "source": [
    "url = 'https://uctwj7mbwu.us-east-1.awsapprunner.com/challenge'\n",
    "\n",
    "#construct the json payload and make a request to the verification endpoint\n",
    "headers = {'Content-type': 'application/json'}\n",
    "json = {\n",
    "    \"customer_name\":customer_name,\n",
    "    \"loan_amount\": loan_amount,\n",
    "    \"monthly_payments\": monthly_payments,\n",
    "    \"loan_application_date\":application_date,\n",
    "    \"bankstatement_amount\":bankstatement_amount,\n",
    "    \"social_security\":ssn,\n",
    "    \"wages_w2\":wages_amount,\n",
    "    \"address\":address,\n",
    "    \"identity_confirmed_boolean\":identity_confirmed_boolean\n",
    "}\n",
    "\n",
    "try:\n",
    "    r = requests.post(url, headers=headers, json=json)\n",
    "    print(r.text)\n",
    "except requests.ConnectionError:\n",
    "    print(\"Cannot connect to server\")"
   ]
  },
  {
   "cell_type": "code",
   "execution_count": null,
   "metadata": {},
   "outputs": [],
   "source": []
  }
 ],
 "metadata": {
  "instance_type": "ml.t3.medium",
  "kernelspec": {
   "display_name": "Python 3 (Data Science)",
   "language": "python",
   "name": "python3__SAGEMAKER_INTERNAL__arn:aws:sagemaker:us-east-1:081325390199:image/datascience-1.0"
  },
  "language_info": {
   "codemirror_mode": {
    "name": "ipython",
    "version": 3
   },
   "file_extension": ".py",
   "mimetype": "text/x-python",
   "name": "python",
   "nbconvert_exporter": "python",
   "pygments_lexer": "ipython3",
   "version": "3.7.10"
  }
 },
 "nbformat": 4,
 "nbformat_minor": 4
}
