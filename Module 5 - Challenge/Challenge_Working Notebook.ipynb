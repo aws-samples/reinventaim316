{
 "cells": [
  {
   "cell_type": "markdown",
   "metadata": {},
   "source": [
    "# Challenge Working Notebook\n",
    "\n",
    "### This is the notebook you should complete the challenge in. If you get stuck refer to the Challenge_Solution notebook for answers!"
   ]
  },
  {
   "cell_type": "markdown",
   "metadata": {},
   "source": [
    "\n",
    "\n",
    "## Section 1: Classify the Documents"
   ]
  },
  {
   "cell_type": "markdown",
   "metadata": {},
   "source": [
    "Our first task is to classify each of the 5 documents by type using the entity recognition endpoint from module 3. Use this template to get started and consult module 3 for syntax reference:"
   ]
  },
  {
   "cell_type": "code",
   "execution_count": null,
   "metadata": {},
   "outputs": [],
   "source": [
    "import boto3\n",
    "import requests"
   ]
  },
  {
   "cell_type": "code",
   "execution_count": null,
   "metadata": {},
   "outputs": [],
   "source": [
    "textract = boto3.client('textract')\n",
    "comprehend = boto3.client('comprehend')"
   ]
  },
  {
   "cell_type": "code",
   "execution_count": null,
   "metadata": {},
   "outputs": [],
   "source": [
    "documents = ['Image1.png', 'Image2.png','Image3.png','Image4.png','Image5.png']"
   ]
  },
  {
   "cell_type": "code",
   "execution_count": null,
   "metadata": {},
   "outputs": [],
   "source": [
    "def classify(document):\n",
    "    \n",
    "    #use the model endpoint from Module 3 to help solve this challenge!\n",
    "    #send documents to textract\n",
    "    #post-process the documents\n",
    "    #send post processed text to the endpoint/model from Module 3 \n",
    "\n",
    "    return predicted_class\n",
    "\n",
    "\n",
    "for doc in documents:\n",
    "    print(doc + \" is \" + classify(doc))\n"
   ]
  },
  {
   "cell_type": "markdown",
   "metadata": {},
   "source": [
    "Once we call the classifier endpoint, reneame each document to its proper class. You may need to restart the kernel when you rename the documents for the notebook to recognize the new files."
   ]
  },
  {
   "cell_type": "code",
   "execution_count": 2,
   "metadata": {},
   "outputs": [],
   "source": [
    "#You can re-name the files programmatically or manually! \n",
    "#Loan Application -> loan_app.png\n",
    "#Mortgage Note -> mortgage_note.png\n",
    "#Proof of Identity Document -> proof_of_identity.png\n",
    "#Bank Statement -> bank_statement.png\n",
    "#W2 Form -> w2.png"
   ]
  },
  {
   "cell_type": "markdown",
   "metadata": {},
   "source": [
    "## Section 2: Document Extraction and Entity Extraction"
   ]
  },
  {
   "cell_type": "markdown",
   "metadata": {},
   "source": [
    "Now that we've classified each document, we can walk through them individually and extract values using the most suitable method. For several of the documents, we can use textract analyze_documents with the appropriate feature type- see module 1 for syntax reminders. However, getting the correct fields from the mortgage notes document will require us to our custom entity detection endpoint from module 4."
   ]
  },
  {
   "cell_type": "markdown",
   "metadata": {},
   "source": [
    "While prettyprint is useful to format our textract responses, we can use the document library to extract the key-value pairs."
   ]
  },
  {
   "cell_type": "markdown",
   "metadata": {},
   "source": [
    "### Document 1: Loan Application"
   ]
  },
  {
   "cell_type": "markdown",
   "metadata": {},
   "source": [
    "The address field may have extra values. Make sure to trim these before saving the variable."
   ]
  },
  {
   "cell_type": "code",
   "execution_count": null,
   "metadata": {},
   "outputs": [],
   "source": [
    "from trp import Document"
   ]
  },
  {
   "cell_type": "code",
   "execution_count": null,
   "metadata": {},
   "outputs": [],
   "source": [
    "document = 'loan_app.png'\n",
    "\n",
    "#Open the document and call the Analyze Doc API\n",
    "#Post-process and extract each key value from textract response with the document library\n",
    "#Save our key values as variables to reference at the end of the challenge\n",
    "\n",
    "\n",
    "customer_name = \"\"\n",
    "application_date = \"\"\n",
    "address = \"\""
   ]
  },
  {
   "cell_type": "markdown",
   "metadata": {},
   "source": [
    "## Document 2: Mortage Notes"
   ]
  },
  {
   "cell_type": "code",
   "execution_count": null,
   "metadata": {},
   "outputs": [],
   "source": [
    "document = 'mortgage_note.png'\n",
    "# Use the pre-built endpoint from Module 4 to do this challenge\n",
    "# Send the file to the endpoint and parse the response for Principal Amount -> loan_amount and Monthly Payment -> monthly_payment\n",
    "loan_amount = \"\"\n",
    "monthly_payment = \"\""
   ]
  },
  {
   "cell_type": "markdown",
   "metadata": {},
   "source": [
    "### Document 3: Proof of Identity"
   ]
  },
  {
   "cell_type": "markdown",
   "metadata": {},
   "source": [
    "Like before, use textract analyze_text to extract the customer name the driver's license. Compare it with the name we stored earlier from the loan application document to verify they are the same. Reflect this by setting the identity_confirmed_boolean variable."
   ]
  },
  {
   "cell_type": "code",
   "execution_count": null,
   "metadata": {},
   "outputs": [],
   "source": [
    "document = 'proof_of_identity.png'\n",
    "\n",
    "#Open the document and call the Analyze Doc API\n",
    "#Post-process and extract the key value from textract response with the document library        \n",
    "#Compare the customer name from the license to the one on the loan app.\n",
    "#Make sure the first and last name orders are the same!\n",
    "        \n",
    "if (names_are_the_same):\n",
    "    identity_confirmed_boolean = True"
   ]
  },
  {
   "cell_type": "markdown",
   "metadata": {},
   "source": [
    "### Document 4: Bank Statement"
   ]
  },
  {
   "cell_type": "code",
   "execution_count": null,
   "metadata": {},
   "outputs": [],
   "source": [
    "document = 'bank_statement.png'\n",
    "\n",
    "# Open the document and call the Analyze Doc API\n",
    "# Post-process and extract each key value from textract response with the document library\n",
    "# Save our key value as variables to reference at the end of the challenge\n",
    "\n",
    "bankstatement_amount = \"\""
   ]
  },
  {
   "cell_type": "markdown",
   "metadata": {},
   "source": [
    "### Document 5: W2 Form"
   ]
  },
  {
   "cell_type": "code",
   "execution_count": null,
   "metadata": {},
   "outputs": [],
   "source": [
    "document = 'w2.png'\n",
    "\n",
    "# Open the document and call the Analyze Doc API\n",
    "# Post-process and extract each key value from textract response with the document library\n",
    "# Save our key values as variables to reference at the end of the challenge\n",
    "\n",
    "wages_amount = \"\"\n",
    "ssn = \"\""
   ]
  },
  {
   "cell_type": "markdown",
   "metadata": {},
   "source": [
    "## Section 3: Verify Results"
   ]
  },
  {
   "cell_type": "markdown",
   "metadata": {},
   "source": [
    "Now that we have all our document form values extracted and saved as variables, we can format them into JSON and make a request to the provided endpoint. Make sure your JSON folows the format from the documentation!"
   ]
  },
  {
   "cell_type": "code",
   "execution_count": null,
   "metadata": {},
   "outputs": [],
   "source": [
    "url = 'https://uctwj7mbwu.us-east-1.awsapprunner.com//challenge'\n",
    "headers = {'Content-type': 'application/json'}\n",
    "\n",
    "# Step 1: Construct the json payload with the saved variables\n",
    "json = {\n",
    "    \n",
    "    \"customer_name\":customer_name,\n",
    "    \"loan_amount\": loan_amount,\n",
    "    \"monthly_payments\": monthly_payments,\n",
    "    \"loan_application_date\":application_date,\n",
    "    \"bankstatement_amount\":bankstatement_amount,\n",
    "    \"social_security\":ssn,\n",
    "    \"wages_w2\":wages_amount,\n",
    "    \"address\":address,\n",
    "    \"identity_confirmed_boolean\":identity_confirmed_boolean\n",
    "\n",
    "}\n",
    "\n",
    "# Step 2: Make a request to the endpoint with the requests library\n",
    "\n",
    "try:\n",
    "    r = requests.post(url, headers=headers, json=json)\n",
    "    print(r.content)\n",
    "except requests.ConnectionError:\n",
    "    print(\"Cannot connect to server\")"
   ]
  }
 ],
 "metadata": {
  "instance_type": "ml.t3.medium",
  "kernelspec": {
   "display_name": "Python 3 (Data Science)",
   "language": "python",
   "name": "python3__SAGEMAKER_INTERNAL__arn:aws:sagemaker:us-east-1:081325390199:image/datascience-1.0"
  },
  "language_info": {
   "codemirror_mode": {
    "name": "ipython",
    "version": 3
   },
   "file_extension": ".py",
   "mimetype": "text/x-python",
   "name": "python",
   "nbconvert_exporter": "python",
   "pygments_lexer": "ipython3",
   "version": "3.7.10"
  }
 },
 "nbformat": 4,
 "nbformat_minor": 4
}
