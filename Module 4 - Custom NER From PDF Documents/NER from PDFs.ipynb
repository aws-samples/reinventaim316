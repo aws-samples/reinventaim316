{
 "cells": [
  {
   "cell_type": "markdown",
   "metadata": {},
   "source": [
    "<h1> <strong>Custom Named Entity Recognition (NER) from Mortgage Documents </strong>"
   ]
  },
  {
   "cell_type": "markdown",
   "metadata": {},
   "source": [
    "A powerful feature in AWS Comprehend is custom NER. This allows us to find certain key values in documents without having to build custom matching scripts or parsing through large quantites of documents. We have multiple options on AWS to build a custom NER model. The first is through flat data txt or csv files with the entity name and value. This method supports <strong>Synchronous and Asynchronous</strong> calls. The other method and the method we will be doing in this module is custom NER from native document types, this method currently only supports ***Asynchronous*** calls. This method becomes especially powerful as it takes into account spatial information in a document to improve inference. \n",
    "\n",
    "<h4>Please follow the instructions in the lab guide before proceeding</h4> "
   ]
  },
  {
   "cell_type": "code",
   "execution_count": null,
   "metadata": {},
   "outputs": [],
   "source": [
    "import boto3\n",
    "import json\n",
    "import requests"
   ]
  },
  {
   "cell_type": "code",
   "execution_count": null,
   "metadata": {},
   "outputs": [],
   "source": [
    "#updating the manifest file with the s3 bucket you created in the earlier step. \n",
    "\n",
    "inputted_s3_uri = \"s3://{enter_bucket_name}\"\n",
    "replace_with_input_source = \"s3://comprehend-semi-structured-documents-us-east-1-737050353456/source-semi-structured-documents/\"\n",
    "input_source = f\"{inputted_s3_uri}/source/\"\n",
    "\n",
    "replace_with_input_annotations = \"s3://comprehend-semi-structured-documents-us-east-1-737050353456/output/labeling-job-labeling-job-20211110T120317/annotations/consolidated-annotation/consolidation-response/iteration-1/\"\n",
    "input_annotations =  f\"{inputted_s3_uri}/\"\n",
    "\n",
    "with open(\"output.manifest\") as output_file:\n",
    "    data = output_file.read()\n",
    "    data = data.replace(replace_with_input_source, input_source)\n",
    "    data = data.replace(replace_with_input_annotations, input_annotations)\n",
    "    with open(\"output.manifest\", \"w\") as parsed_output_file:\n",
    "        parsed_output_file.write(data)\n",
    "\n",
    "print(\"The manifest file is updated with the correct bucket\")"
   ]
  },
  {
   "cell_type": "code",
   "execution_count": null,
   "metadata": {},
   "outputs": [],
   "source": [
    "#We are now going to upload the latest version of our manifest to s3\n",
    "s3 = boto3.resource('s3')\n",
    "s3.meta.client.upload_file(Filename='output.manifest', Bucket='{enter_bucket_name}', Key='output.manifest')\n",
    "print(\"manifest file sucessfully sent\")"
   ]
  },
  {
   "cell_type": "markdown",
   "metadata": {},
   "source": [
    "<h4> Now that we have sucessfully updated our manifest file go back to the lab guide to train your model! </h4> "
   ]
  },
  {
   "cell_type": "markdown",
   "metadata": {},
   "source": [
    "<h2> Pre-Built Custom NER Model </h2>\n",
    "\n",
    "While we wait for our model to train let's use a pre-built NER model to detect entities in our \"sample.pdf\" document."
   ]
  },
  {
   "cell_type": "code",
   "execution_count": null,
   "metadata": {},
   "outputs": [],
   "source": [
    "#sending our sample.pdf to the pre-built custom NER model\n",
    "input_file_path = \"sample.pdf\"\n",
    "url = \"https://uctwj7mbwu.us-east-1.awsapprunner.com/customner\"\n",
    "\n",
    "with open(input_file_path, \"rb\") as file:\n",
    "    files = {\n",
    "         \"input_file\": file\n",
    "    }\n",
    "    response = requests.post(url, files=files)\n",
    "    responsecontent = response.json()\n",
    "    print(responsecontent)"
   ]
  },
  {
   "cell_type": "code",
   "execution_count": null,
   "metadata": {},
   "outputs": [],
   "source": []
  }
 ],
 "metadata": {
  "instance_type": "ml.t3.medium",
  "kernelspec": {
   "display_name": "Python 3 (Data Science)",
   "language": "python",
   "name": "python3__SAGEMAKER_INTERNAL__arn:aws:sagemaker:us-east-1:081325390199:image/datascience-1.0"
  },
  "language_info": {
   "codemirror_mode": {
    "name": "ipython",
    "version": 3
   },
   "file_extension": ".py",
   "mimetype": "text/x-python",
   "name": "python",
   "nbconvert_exporter": "python",
   "pygments_lexer": "ipython3",
   "version": "3.7.10"
  }
 },
 "nbformat": 4,
 "nbformat_minor": 4
}
